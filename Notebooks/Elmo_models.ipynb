{
 "cells": [
  {
   "cell_type": "code",
   "execution_count": 3,
   "metadata": {},
   "outputs": [],
   "source": [
    "from multilab.models import Elmo"
   ]
  },
  {
   "cell_type": "code",
   "execution_count": 4,
   "metadata": {},
   "outputs": [
    {
     "name": "stderr",
     "output_type": "stream",
     "text": [
      "[nltk_data] Downloading package reuters to\n",
      "[nltk_data]     /home/ANANT/apal/nltk_data...\n",
      "[nltk_data]   Package reuters is already up-to-date!\n"
     ]
    },
    {
     "name": "stdout",
     "output_type": "stream",
     "text": [
      "lower_case done\n",
      "punctuation removed\n",
      "text cleaning done\n"
     ]
    }
   ],
   "source": [
    "# let's take one dataset for example\n",
    "from multilab.datasets import reuter\n",
    "sentences, labels = reuter()\n",
    "\n",
    "from multilab.preprocess import Text_preprocessing\n",
    "text_preprocessing = Text_preprocessing()\n",
    "\n",
    "dataframe = text_preprocessing.labels_to_dataframe(sentences,labels)\n",
    "preprocessded_dataset = text_preprocessing.initial_preprocess(dataframe, chunk_value = 25)\n",
    "dataset, frequency_list = text_preprocessing.keep_labels(preprocessded_dataset,keep_ratio=0.10)\n",
    "slice_dataset = text_preprocessing.dataset_slice(dataset,ratio=0.25)\n",
    "\n",
    "import numpy as np\n",
    "all_sente = list(slice_dataset['text'])\n",
    "all_label = np.array(slice_dataset.drop('text', 1))\n",
    "\n",
    "X_train, X_test, y_train, y_test = text_preprocessing.split_dataset(all_sente, all_label)"
   ]
  },
  {
   "cell_type": "code",
   "execution_count": 5,
   "metadata": {},
   "outputs": [
    {
     "name": "stderr",
     "output_type": "stream",
     "text": [
      "epoch 0,  iteration 11,  F1_score 0.4919786096256685,  loss 2.7110862731933594: 100%|██████████| 12/12 [00:10<00:00,  1.20it/s] \n",
      "/home/ANANT/apal/.local/lib/python3.6/site-packages/sklearn/metrics/classification.py:1437: UndefinedMetricWarning: F-score is ill-defined and being set to 0.0 in labels with no predicted samples.\n",
      "  'precision', 'predicted', average, warn_for)\n"
     ]
    },
    {
     "name": "stdout",
     "output_type": "stream",
     "text": [
      "validation_acc {'subset_accuracy': 0.35500000000000004, 'hamming_score': 0.35500000000000004, 'hamming_loss': 0.08333333333333333, 'micro_ac': 0.4856594016522573, 'weight_ac': 0.3636627790584412, 'epoch': 0}\n"
     ]
    }
   ],
   "source": [
    "# first model\n",
    "\n",
    "# Elmo model layer batch x 1024 \n",
    "# fully connected layer   1204 x no of labels\n",
    "\n",
    "\n",
    "from multilab.models import Elmo\n",
    "\n",
    "config = {\n",
    "                         'no_of_labels'               : len(y_train[0]),\n",
    "                         'learning_rate'              : 0.001,\n",
    "                         'epoch'                      : 1,\n",
    "                         'batch_size'                 : 128,\n",
    "                         'model_type'                 : 'base',\n",
    "                         'result_path'                : '.'\n",
    "                        }\n",
    "\n",
    "\n",
    "el_m = Elmo(X_train, y_train, X_test,  y_test, config)\n",
    "el_m.train()"
   ]
  },
  {
   "cell_type": "code",
   "execution_count": 6,
   "metadata": {},
   "outputs": [
    {
     "name": "stderr",
     "output_type": "stream",
     "text": [
      "epoch 0,  iteration 11,  F1_score 0.6100000000000001,  loss 1.6908056735992432: 100%|██████████| 12/12 [00:10<00:00,  1.19it/s]\n",
      "/home/ANANT/apal/.local/lib/python3.6/site-packages/sklearn/metrics/classification.py:1437: UndefinedMetricWarning: F-score is ill-defined and being set to 0.0 in labels with no predicted samples.\n",
      "  'precision', 'predicted', average, warn_for)\n"
     ]
    },
    {
     "name": "stdout",
     "output_type": "stream",
     "text": [
      "validation_acc {'subset_accuracy': 0.4766666666666666, 'hamming_score': 0.4775, 'hamming_loss': 0.06962962962962964, 'micro_ac': 0.6041090308606232, 'weight_ac': 0.505519791941963, 'epoch': 0}\n"
     ]
    }
   ],
   "source": [
    "# second model\n",
    "\n",
    "# Elmo model layer        batch x 1024 \n",
    "# fully connected layer   1204 x 256\n",
    "# fully connected layer   256  x no of labels\n",
    "\n",
    "\n",
    "\n",
    "\n",
    "from multilab.models import Elmo\n",
    "\n",
    "config = {\n",
    "                         'no_of_labels'               : len(y_train[0]),\n",
    "                         'learning_rate'              : 0.001,\n",
    "                         'epoch'                      : 1,\n",
    "                         'batch_size'                 : 128,\n",
    "                         'model_type'                 : 'two_layer',\n",
    "                         'result_path'                : '.'\n",
    "                        }\n",
    "\n",
    "\n",
    "el_ms = Elmo(X_train, y_train, X_test,  y_test, config)\n",
    "el_ms.train()"
   ]
  },
  {
   "cell_type": "code",
   "execution_count": null,
   "metadata": {},
   "outputs": [],
   "source": [
    "# three layer with dropout\n",
    "\n",
    "# third model\n",
    "\n",
    "# Elmo model layer       batch x 1024 \n",
    "# fully connected layer   1204 x 512 \n",
    "# dropout \n",
    "# fully connected layer   512  x 256\n",
    "# dropout\n",
    "# fully connected layer   256  x 128\n",
    "# dropout\n",
    "# fully connected layer   128 x no of labels\n",
    "\n",
    "\n",
    "\n",
    "\n",
    "from multilab.models import Elmo\n",
    "\n",
    "config = {\n",
    "                         'no_of_labels'               : len(y_train[0]),\n",
    "                         'learning_rate'              : 0.001,\n",
    "                         'epoch'                      : 1,\n",
    "                         'batch_size'                 : 128,\n",
    "                         'dropout'                    : 0.2,\n",
    "                         'model_type'                 : 'dropout',\n",
    "                         'result_path'                : '.'\n",
    "                        }\n",
    "\n",
    "\n",
    "el_m_drop = Elmo(X_train, y_train, X_test,  y_test, config)\n",
    "el_m_drop.train()"
   ]
  },
  {
   "cell_type": "code",
   "execution_count": null,
   "metadata": {},
   "outputs": [],
   "source": [
    "# three layer\n",
    "\n",
    "# forth model\n",
    "\n",
    "# Elmo model layer       batch x 1024 \n",
    "# fully connected layer   1204 x 512 \n",
    "# fully connected layer   512  x 256\n",
    "# fully connected layer   256  x 128\n",
    "# fully connected layer   128 x no of labels\n",
    "\n",
    "from multilab.models import Elmo\n",
    "\n",
    "config = {\n",
    "                         'no_of_labels'               : len(y_train[0]),\n",
    "                         'learning_rate'              : 0.001,\n",
    "                         'epoch'                      : 1,\n",
    "                         'batch_size'                 : 128,\n",
    "                         'model_type'                 : 'three_layer',\n",
    "                         'result_path'                : '.'\n",
    "                        }\n",
    "\n",
    "\n",
    "el_f = Elmo(X_train, y_train, X_test,  y_test, config)\n",
    "el_f.train()"
   ]
  },
  {
   "cell_type": "code",
   "execution_count": null,
   "metadata": {},
   "outputs": [],
   "source": []
  }
 ],
 "metadata": {
  "kernelspec": {
   "display_name": "Python 3",
   "language": "python",
   "name": "python3"
  },
  "language_info": {
   "codemirror_mode": {
    "name": "ipython",
    "version": 3
   },
   "file_extension": ".py",
   "mimetype": "text/x-python",
   "name": "python",
   "nbconvert_exporter": "python",
   "pygments_lexer": "ipython3",
   "version": "3.6.8"
  }
 },
 "nbformat": 4,
 "nbformat_minor": 2
}
