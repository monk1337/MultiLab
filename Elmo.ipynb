{
 "cells": [
  {
   "cell_type": "code",
   "execution_count": 1,
   "metadata": {},
   "outputs": [
    {
     "name": "stdout",
     "output_type": "stream",
     "text": [
      "[nltk_data] Downloading package reuters to /Users/monk/nltk_data...\n",
      "[nltk_data]   Package reuters is already up-to-date!\n",
      "lower_case done\n",
      "punctuation removed\n",
      "text cleaning done\n"
     ]
    },
    {
     "name": "stderr",
     "output_type": "stream",
     "text": [
      "100%|██████████| 1580/1580 [00:00<00:00, 895298.61it/s]\n",
      "100%|██████████| 678/678 [00:00<00:00, 676597.22it/s]\n",
      "Bar desc:   0%|          | 0/131 [00:00<?, ?it/s]\n",
      "  0%|          | 0/12 [00:00<?, ?it/s]\u001b[A\n",
      "100%|██████████| 12/12 [00:00<00:00, 7330.56it/s]\u001b[A"
     ]
    },
    {
     "name": "stdout",
     "output_type": "stream",
     "text": [
      "([['bellsouth', 'ltbls', 'completes', 'purchase', 'for', 'shares', 'bellsouth', 'corp', 'said', 'it', 'completed', 'its', 'previouslyannounced', 'agreement', 'to', 'acquire', 'ltdataserv', 'inc', 'for', 'an', 'exchange', 'of', 'shares', 'bellsouth', 'said'], ['science', 'management', 'corp', 'ltsmg', 'th', 'qtr', 'oper', 'net', 'oper', 'shr', 'profit', 'cts', 'vs', 'loss', 'cts', 'oper', 'net', 'profit', 'vs', 'loss', 'revs', 'mln', 'vs', 'mln', 'avg'], ['shultz', 'predicts', 'rapid', 'narrowing', 'of', 'us', 'trade', 'gap', 'secretary', 'of', 'state', 'george', 'shultz', 'said', 'the', 'us', 'would', 'erase', 'its', 'large', 'foreign', 'trade', 'deficit', 'faster', 'than'], ['james', 'river', 'corp', 'ltjr', 'sets', 'regular', 'dividend', 'qtly', 'div', 'cts', 'vs', 'cts', 'prior', 'pay', 'april', 'record', 'april', '', '', '', '', '', '', '', ''], ['safetykleen', 'ltsk', 'to', 'buy', 'stake', 'in', 'oil', 'refiner', 'safetykleen', 'corp', 'said', 'it', 'has', 'tentatively', 'agreed', 'to', 'buy', 'an', 'pct', 'stake', 'in', 'breslube', 'enterprises', 'of', 'toronto'], ['williams', 'cos', 'ltwmb', 'year', 'loss', 'shr', 'loss', 'dlrs', 'vs', 'profit', 'cts', 'net', 'loss', 'mln', 'vs', 'profit', 'mln', 'revs', 'billion', 'vs', 'billion', 'note', 'includes', 'loss', 'of'], ['convoy', 'runs', 'gulf', 'gauntlet', 'other', 'ships', 'stay', 'clear', 'a', 'new', 'convoy', 'of', 'tankers', 'escorted', 'by', 'american', 'warships', 'headed', 'down', 'the', 'gulf', 'on', 'wednesday', 'towards', 'iranian'], ['murphy', 'oil', 'said', 'it', 'proposing', 'to', 'acquire', 'remaining', 'pct', 'of', 'canadian', 'subsidiary', 'murphy', 'oil', 'said', 'it', 'proposing', 'to', 'acquire', 'remaining', 'pct', 'of', 'canadian', 'subsidiary', ''], ['volcker', 'says', 'us', 'trade', 'deficit', 'is', 'major', 'challenge', 'federal', 'reserve', 'board', 'chairman', 'paul', 'volcker', 'said', 'the', 'us', 'trade', 'deficit', 'is', 'a', 'challenge', 'for', 'the', 'us'], ['brownforman', 'inc', 'ltbfd', 'th', 'qtr', 'net', 'shr', 'one', 'dlr', 'vs', 'cts', 'net', 'mln', 'vs', 'mln', 'revs', 'mln', 'vs', 'mln', 'nine', 'mths', 'shr', 'dlrs', 'vs', 'dlrs'], ['suffield', 'financial', 'ltssbk', 'gets', 'fed', 'approval', 'suffield', 'financial', 'corp', 'said', 'the', 'federal', 'reserve', 'board', 'approved', 'its', 'application', 'to', 'acquire', 'coastal', 'bancorp', 'ltcsbk', 'portland', 'me', 'suffield'], ['western', 'canada', 'hurt', 'by', 'international', 'forces', 'western', 'canadas', 'resourcebased', 'economy', 'is', 'being', 'hurt', 'by', 'international', 'market', 'forces', 'and', 'there', 'is', 'little', 'ottawa', 'can', 'do', 'about']], [25, 25, 25, 17, 25, 25, 25, 24, 25, 25, 25, 25])\n"
     ]
    },
    {
     "ename": "InternalError",
     "evalue": "Unable to get element as bytes.",
     "output_type": "error",
     "traceback": [
      "\u001b[0;31m---------------------------------------------------------------------------\u001b[0m",
      "\u001b[0;31mInternalError\u001b[0m                             Traceback (most recent call last)",
      "\u001b[0;32m~/anaconda3/lib/python3.6/site-packages/tensorflow/python/client/session.py\u001b[0m in \u001b[0;36m_do_call\u001b[0;34m(self, fn, *args)\u001b[0m\n\u001b[1;32m   1355\u001b[0m     \u001b[0;32mtry\u001b[0m\u001b[0;34m:\u001b[0m\u001b[0;34m\u001b[0m\u001b[0;34m\u001b[0m\u001b[0m\n\u001b[0;32m-> 1356\u001b[0;31m       \u001b[0;32mreturn\u001b[0m \u001b[0mfn\u001b[0m\u001b[0;34m(\u001b[0m\u001b[0;34m*\u001b[0m\u001b[0margs\u001b[0m\u001b[0;34m)\u001b[0m\u001b[0;34m\u001b[0m\u001b[0;34m\u001b[0m\u001b[0m\n\u001b[0m\u001b[1;32m   1357\u001b[0m     \u001b[0;32mexcept\u001b[0m \u001b[0merrors\u001b[0m\u001b[0;34m.\u001b[0m\u001b[0mOpError\u001b[0m \u001b[0;32mas\u001b[0m \u001b[0me\u001b[0m\u001b[0;34m:\u001b[0m\u001b[0;34m\u001b[0m\u001b[0;34m\u001b[0m\u001b[0m\n",
      "\u001b[0;32m~/anaconda3/lib/python3.6/site-packages/tensorflow/python/client/session.py\u001b[0m in \u001b[0;36m_run_fn\u001b[0;34m(feed_dict, fetch_list, target_list, options, run_metadata)\u001b[0m\n\u001b[1;32m   1340\u001b[0m       return self._call_tf_sessionrun(\n\u001b[0;32m-> 1341\u001b[0;31m           options, feed_dict, fetch_list, target_list, run_metadata)\n\u001b[0m\u001b[1;32m   1342\u001b[0m \u001b[0;34m\u001b[0m\u001b[0m\n",
      "\u001b[0;32m~/anaconda3/lib/python3.6/site-packages/tensorflow/python/client/session.py\u001b[0m in \u001b[0;36m_call_tf_sessionrun\u001b[0;34m(self, options, feed_dict, fetch_list, target_list, run_metadata)\u001b[0m\n\u001b[1;32m   1428\u001b[0m         \u001b[0mself\u001b[0m\u001b[0;34m.\u001b[0m\u001b[0m_session\u001b[0m\u001b[0;34m,\u001b[0m \u001b[0moptions\u001b[0m\u001b[0;34m,\u001b[0m \u001b[0mfeed_dict\u001b[0m\u001b[0;34m,\u001b[0m \u001b[0mfetch_list\u001b[0m\u001b[0;34m,\u001b[0m \u001b[0mtarget_list\u001b[0m\u001b[0;34m,\u001b[0m\u001b[0;34m\u001b[0m\u001b[0;34m\u001b[0m\u001b[0m\n\u001b[0;32m-> 1429\u001b[0;31m         run_metadata)\n\u001b[0m\u001b[1;32m   1430\u001b[0m \u001b[0;34m\u001b[0m\u001b[0m\n",
      "\u001b[0;31mInternalError\u001b[0m: Unable to get element as bytes.",
      "\nDuring handling of the above exception, another exception occurred:\n",
      "\u001b[0;31mInternalError\u001b[0m                             Traceback (most recent call last)",
      "\u001b[0;32m<ipython-input-1-c46e3b46e1f3>\u001b[0m in \u001b[0;36m<module>\u001b[0;34m()\u001b[0m\n\u001b[1;32m     36\u001b[0m \u001b[0;34m\u001b[0m\u001b[0m\n\u001b[1;32m     37\u001b[0m \u001b[0mel_m\u001b[0m \u001b[0;34m=\u001b[0m \u001b[0mElmo_Word_Model\u001b[0m\u001b[0;34m(\u001b[0m\u001b[0mX_train\u001b[0m\u001b[0;34m,\u001b[0m \u001b[0my_train\u001b[0m\u001b[0;34m,\u001b[0m \u001b[0mX_test\u001b[0m\u001b[0;34m,\u001b[0m  \u001b[0my_test\u001b[0m\u001b[0;34m,\u001b[0m \u001b[0mconfig\u001b[0m\u001b[0;34m)\u001b[0m\u001b[0;34m\u001b[0m\u001b[0;34m\u001b[0m\u001b[0m\n\u001b[0;32m---> 38\u001b[0;31m \u001b[0mel_m\u001b[0m\u001b[0;34m.\u001b[0m\u001b[0mtrain\u001b[0m\u001b[0;34m(\u001b[0m\u001b[0;34m)\u001b[0m\u001b[0;34m\u001b[0m\u001b[0;34m\u001b[0m\u001b[0m\n\u001b[0m",
      "\u001b[0;32m~/Documents/pro/MultiLab/multilab/Models/Bilstm_elmo/bilstm_elmo_word_train.py\u001b[0m in \u001b[0;36mtrain\u001b[0;34m(self)\u001b[0m\n\u001b[1;32m    193\u001b[0m \u001b[0;34m\u001b[0m\u001b[0m\n\u001b[1;32m    194\u001b[0m \u001b[0;34m\u001b[0m\u001b[0m\n\u001b[0;32m--> 195\u001b[0;31m         \u001b[0mself\u001b[0m\u001b[0;34m.\u001b[0m\u001b[0mtrain_model\u001b[0m\u001b[0;34m(\u001b[0m\u001b[0mmodel\u001b[0m\u001b[0;34m)\u001b[0m\u001b[0;34m\u001b[0m\u001b[0;34m\u001b[0m\u001b[0m\n\u001b[0m",
      "\u001b[0;32m~/Documents/pro/MultiLab/multilab/Models/Bilstm_elmo/bilstm_elmo_word_train.py\u001b[0m in \u001b[0;36mtrain_model\u001b[0;34m(self, model)\u001b[0m\n\u001b[1;32m    166\u001b[0m                                                          \u001b[0mmodel\u001b[0m\u001b[0;34m.\u001b[0m\u001b[0mplaceholders\u001b[0m\u001b[0;34m[\u001b[0m\u001b[0;34m'labels'\u001b[0m\u001b[0;34m]\u001b[0m\u001b[0;34m:\u001b[0m \u001b[0mlabels_data\u001b[0m\u001b[0;34m,\u001b[0m\u001b[0;34m\u001b[0m\u001b[0;34m\u001b[0m\u001b[0m\n\u001b[1;32m    167\u001b[0m                                                          \u001b[0mmodel\u001b[0m\u001b[0;34m.\u001b[0m\u001b[0mplaceholders\u001b[0m\u001b[0;34m[\u001b[0m\u001b[0;34m'sequence_length'\u001b[0m\u001b[0;34m]\u001b[0m\u001b[0;34m:\u001b[0m \u001b[0msequence_leng\u001b[0m\u001b[0;34m,\u001b[0m\u001b[0;34m\u001b[0m\u001b[0;34m\u001b[0m\u001b[0m\n\u001b[0;32m--> 168\u001b[0;31m                                                          model.placeholders['drop']: self.old_configuration['dropout']})\n\u001b[0m\u001b[1;32m    169\u001b[0m \u001b[0;34m\u001b[0m\u001b[0m\n\u001b[1;32m    170\u001b[0m                     t.set_description(\"epoch {},  iteration {},  F1_score {},  loss {}\".format(i,\n",
      "\u001b[0;32m~/anaconda3/lib/python3.6/site-packages/tensorflow/python/client/session.py\u001b[0m in \u001b[0;36mrun\u001b[0;34m(self, fetches, feed_dict, options, run_metadata)\u001b[0m\n\u001b[1;32m    948\u001b[0m     \u001b[0;32mtry\u001b[0m\u001b[0;34m:\u001b[0m\u001b[0;34m\u001b[0m\u001b[0;34m\u001b[0m\u001b[0m\n\u001b[1;32m    949\u001b[0m       result = self._run(None, fetches, feed_dict, options_ptr,\n\u001b[0;32m--> 950\u001b[0;31m                          run_metadata_ptr)\n\u001b[0m\u001b[1;32m    951\u001b[0m       \u001b[0;32mif\u001b[0m \u001b[0mrun_metadata\u001b[0m\u001b[0;34m:\u001b[0m\u001b[0;34m\u001b[0m\u001b[0;34m\u001b[0m\u001b[0m\n\u001b[1;32m    952\u001b[0m         \u001b[0mproto_data\u001b[0m \u001b[0;34m=\u001b[0m \u001b[0mtf_session\u001b[0m\u001b[0;34m.\u001b[0m\u001b[0mTF_GetBuffer\u001b[0m\u001b[0;34m(\u001b[0m\u001b[0mrun_metadata_ptr\u001b[0m\u001b[0;34m)\u001b[0m\u001b[0;34m\u001b[0m\u001b[0;34m\u001b[0m\u001b[0m\n",
      "\u001b[0;32m~/anaconda3/lib/python3.6/site-packages/tensorflow/python/client/session.py\u001b[0m in \u001b[0;36m_run\u001b[0;34m(self, handle, fetches, feed_dict, options, run_metadata)\u001b[0m\n\u001b[1;32m   1171\u001b[0m     \u001b[0;32mif\u001b[0m \u001b[0mfinal_fetches\u001b[0m \u001b[0;32mor\u001b[0m \u001b[0mfinal_targets\u001b[0m \u001b[0;32mor\u001b[0m \u001b[0;34m(\u001b[0m\u001b[0mhandle\u001b[0m \u001b[0;32mand\u001b[0m \u001b[0mfeed_dict_tensor\u001b[0m\u001b[0;34m)\u001b[0m\u001b[0;34m:\u001b[0m\u001b[0;34m\u001b[0m\u001b[0;34m\u001b[0m\u001b[0m\n\u001b[1;32m   1172\u001b[0m       results = self._do_run(handle, final_targets, final_fetches,\n\u001b[0;32m-> 1173\u001b[0;31m                              feed_dict_tensor, options, run_metadata)\n\u001b[0m\u001b[1;32m   1174\u001b[0m     \u001b[0;32melse\u001b[0m\u001b[0;34m:\u001b[0m\u001b[0;34m\u001b[0m\u001b[0;34m\u001b[0m\u001b[0m\n\u001b[1;32m   1175\u001b[0m       \u001b[0mresults\u001b[0m \u001b[0;34m=\u001b[0m \u001b[0;34m[\u001b[0m\u001b[0;34m]\u001b[0m\u001b[0;34m\u001b[0m\u001b[0;34m\u001b[0m\u001b[0m\n",
      "\u001b[0;32m~/anaconda3/lib/python3.6/site-packages/tensorflow/python/client/session.py\u001b[0m in \u001b[0;36m_do_run\u001b[0;34m(self, handle, target_list, fetch_list, feed_dict, options, run_metadata)\u001b[0m\n\u001b[1;32m   1348\u001b[0m     \u001b[0;32mif\u001b[0m \u001b[0mhandle\u001b[0m \u001b[0;32mis\u001b[0m \u001b[0;32mNone\u001b[0m\u001b[0;34m:\u001b[0m\u001b[0;34m\u001b[0m\u001b[0;34m\u001b[0m\u001b[0m\n\u001b[1;32m   1349\u001b[0m       return self._do_call(_run_fn, feeds, fetches, targets, options,\n\u001b[0;32m-> 1350\u001b[0;31m                            run_metadata)\n\u001b[0m\u001b[1;32m   1351\u001b[0m     \u001b[0;32melse\u001b[0m\u001b[0;34m:\u001b[0m\u001b[0;34m\u001b[0m\u001b[0;34m\u001b[0m\u001b[0m\n\u001b[1;32m   1352\u001b[0m       \u001b[0;32mreturn\u001b[0m \u001b[0mself\u001b[0m\u001b[0;34m.\u001b[0m\u001b[0m_do_call\u001b[0m\u001b[0;34m(\u001b[0m\u001b[0m_prun_fn\u001b[0m\u001b[0;34m,\u001b[0m \u001b[0mhandle\u001b[0m\u001b[0;34m,\u001b[0m \u001b[0mfeeds\u001b[0m\u001b[0;34m,\u001b[0m \u001b[0mfetches\u001b[0m\u001b[0;34m)\u001b[0m\u001b[0;34m\u001b[0m\u001b[0;34m\u001b[0m\u001b[0m\n",
      "\u001b[0;32m~/anaconda3/lib/python3.6/site-packages/tensorflow/python/client/session.py\u001b[0m in \u001b[0;36m_do_call\u001b[0;34m(self, fn, *args)\u001b[0m\n\u001b[1;32m   1368\u001b[0m           \u001b[0;32mpass\u001b[0m\u001b[0;34m\u001b[0m\u001b[0;34m\u001b[0m\u001b[0m\n\u001b[1;32m   1369\u001b[0m       \u001b[0mmessage\u001b[0m \u001b[0;34m=\u001b[0m \u001b[0merror_interpolation\u001b[0m\u001b[0;34m.\u001b[0m\u001b[0minterpolate\u001b[0m\u001b[0;34m(\u001b[0m\u001b[0mmessage\u001b[0m\u001b[0;34m,\u001b[0m \u001b[0mself\u001b[0m\u001b[0;34m.\u001b[0m\u001b[0m_graph\u001b[0m\u001b[0;34m)\u001b[0m\u001b[0;34m\u001b[0m\u001b[0;34m\u001b[0m\u001b[0m\n\u001b[0;32m-> 1370\u001b[0;31m       \u001b[0;32mraise\u001b[0m \u001b[0mtype\u001b[0m\u001b[0;34m(\u001b[0m\u001b[0me\u001b[0m\u001b[0;34m)\u001b[0m\u001b[0;34m(\u001b[0m\u001b[0mnode_def\u001b[0m\u001b[0;34m,\u001b[0m \u001b[0mop\u001b[0m\u001b[0;34m,\u001b[0m \u001b[0mmessage\u001b[0m\u001b[0;34m)\u001b[0m\u001b[0;34m\u001b[0m\u001b[0;34m\u001b[0m\u001b[0m\n\u001b[0m\u001b[1;32m   1371\u001b[0m \u001b[0;34m\u001b[0m\u001b[0m\n\u001b[1;32m   1372\u001b[0m   \u001b[0;32mdef\u001b[0m \u001b[0m_extend_graph\u001b[0m\u001b[0;34m(\u001b[0m\u001b[0mself\u001b[0m\u001b[0;34m)\u001b[0m\u001b[0;34m:\u001b[0m\u001b[0;34m\u001b[0m\u001b[0;34m\u001b[0m\u001b[0m\n",
      "\u001b[0;31mInternalError\u001b[0m: Unable to get element as bytes."
     ]
    }
   ],
   "source": [
    "# let's take one dataset for example\n",
    "from multilab.datasets import reuter\n",
    "sentences, labels = reuter()\n",
    "\n",
    "from multilab.preprocess import Text_preprocessing\n",
    "text_preprocessing = Text_preprocessing()\n",
    "\n",
    "dataframe = text_preprocessing.labels_to_dataframe(sentences,labels)\n",
    "preprocessded_dataset = text_preprocessing.initial_preprocess(dataframe, chunk_value = 25)\n",
    "dataset, frequency_list = text_preprocessing.keep_labels(preprocessded_dataset,keep_ratio=0.10)\n",
    "slice_dataset = text_preprocessing.dataset_slice(dataset,ratio=0.25)\n",
    "\n",
    "import numpy as np\n",
    "all_sente = list(slice_dataset['text'])\n",
    "all_label = np.array(slice_dataset.drop('text', 1))\n",
    "\n",
    "X_train, X_test, y_train, y_test = text_preprocessing.split_dataset(all_sente, all_label)\n",
    "\n",
    "X_trains,sequ  = text_preprocessing.pad_sentences(sentences = X_train)\n",
    "X_tests ,sequb = text_preprocessing.pad_sentences(sentences = X_test)\n",
    "\n",
    "from multilab.models import Elmo_Word_Model\n",
    "\n",
    "config = {\n",
    "                         'no_of_labels'               :  y_train.shape[1],\n",
    "                         'learning_rate'              : 0.001,\n",
    "                         'rnn_units'                  : 100,\n",
    "                         'epoch'                      : 1,\n",
    "                         'batch_size'                 : 12,\n",
    "                         'dropout'                    : 0.2,\n",
    "                         'output_type'                : 'state_output',\n",
    "                         'train_elmo'                 : True,\n",
    "                         'result_path'                : '/Users/monk/Desktop',\n",
    "                        }\n",
    "\n",
    "\n",
    "el_m = Elmo_Word_Model(X_train, y_train, X_test,  y_test, config)\n",
    "el_m.train()"
   ]
  },
  {
   "cell_type": "code",
   "execution_count": null,
   "metadata": {},
   "outputs": [],
   "source": [
    "from multilab.models import Elmo_Word_Model\n",
    "\n",
    "config = {\n",
    "                         'no_of_labels'               :  y_train.shape[1],\n",
    "                         'learning_rate'              : 0.001,\n",
    "                         'rnn_units'                  : 100,\n",
    "                         'epoch'                      : 1,\n",
    "                         'batch_size'                 : 12,\n",
    "                         'dropout'                    : 0.2,\n",
    "                         'output_type'                : 'state_output',\n",
    "                         'train_elmo'                 : True,\n",
    "                         'result_path'                : '/Users/monk/Desktop',\n",
    "                        }\n",
    "\n",
    "\n",
    "el_m = Elmo_Word_Model(X_train, y_train, X_test,  y_test, config)\n",
    "el_m.train()"
   ]
  },
  {
   "cell_type": "code",
   "execution_count": null,
   "metadata": {},
   "outputs": [],
   "source": [
    "# testing"
   ]
  },
  {
   "cell_type": "code",
   "execution_count": null,
   "metadata": {},
   "outputs": [],
   "source": [
    "import tensorflow as tf \n",
    "import tensorflow_hub as hub\n",
    "\n",
    "ins = tf.placeholder(tf.string, (None), name='pl_phrase_text')\n",
    "\n",
    "\n",
    "module = hub.Module('https://tfhub.dev/google/elmo/2', trainable=True)\n",
    "embeddings = module(dict(text=ins))\n",
    "embeddings = tf.expand_dims(embeddings, axis=1)"
   ]
  },
  {
   "cell_type": "code",
   "execution_count": null,
   "metadata": {},
   "outputs": [],
   "source": [
    "with tf.Session() as sess:\n",
    "    sess.run([tf.global_variables_initializer(), tf.tables_initializer()])\n",
    "    print(sess.run(embeddings,feed_dict={ins:['hello']}).shape)"
   ]
  },
  {
   "cell_type": "code",
   "execution_count": null,
   "metadata": {},
   "outputs": [],
   "source": [
    "import tensorflow as tf \n",
    "import tensorflow_hub as hub\n",
    "\n",
    "tokens = tf.placeholder(tf.string, (None), name='pl_phrase_text')\n",
    "pl_phrase_len = tf.placeholder(tf.int32, (None), name='pl_phrase_len')\n",
    "\n",
    "tokens_input = [[\"the\", \"cat\", \"is\", \"on\", \"the\", \"mat\"],\n",
    "                [\"dogs\", \"are\", \"in\", \"the\", \"fog\", \"\"]]\n",
    "tokens_length = [6, 5]\n",
    "\n",
    "\n",
    "module = hub.Module('https://tfhub.dev/google/elmo/2', trainable=True)\n",
    "module_features = module(dict(tokens=tokens, sequence_len = pl_phrase_len),\n",
    "                                 signature='tokens', as_dict=True)\n",
    "embeddingse = module_features[\"elmo\"]\n",
    "\n",
    "with tf.variable_scope('Layer1'):\n",
    "    cell_fw1 = tf.nn.rnn_cell.LSTMCell(num_units=128, state_is_tuple=True)\n",
    "    cell_bw1 = tf.nn.rnn_cell.LSTMCell(num_units=128, state_is_tuple=True)\n",
    "\n",
    "    outputs1, states1 = tf.nn.bidirectional_dynamic_rnn(\n",
    "        cell_fw=cell_fw1,\n",
    "        cell_bw=cell_bw1,\n",
    "        inputs=embeddingse,\n",
    "        dtype=tf.float32)"
   ]
  },
  {
   "cell_type": "code",
   "execution_count": null,
   "metadata": {},
   "outputs": [],
   "source": [
    "with tf.Session() as sess:\n",
    "    sess.run([tf.global_variables_initializer(), tf.tables_initializer()])\n",
    "    out, data,t = sess.run([outputs1,embeddingse,module_features],feed_dict={tokens: tokens_input, pl_phrase_len: tokens_length})\n",
    "    \n",
    "    \n",
    "    \n",
    "    "
   ]
  },
  {
   "cell_type": "code",
   "execution_count": null,
   "metadata": {},
   "outputs": [],
   "source": [
    "rnn_output = tf.reshape(outputs1[0], (-1, 128))\n",
    "rnn_output.shape"
   ]
  },
  {
   "cell_type": "code",
   "execution_count": null,
   "metadata": {},
   "outputs": [],
   "source": [
    "rnn_outputs = tf.reshape(outputs1[0], (-1, 128 * 6))"
   ]
  },
  {
   "cell_type": "code",
   "execution_count": null,
   "metadata": {},
   "outputs": [],
   "source": [
    "rnn_outputs.shape"
   ]
  },
  {
   "cell_type": "code",
   "execution_count": null,
   "metadata": {},
   "outputs": [],
   "source": [
    "from tqdm import tqdm\n",
    "import nltk\n",
    "\n",
    "# padded_sequence = [i + [0] * (max_sequence - len(i)) if len(i) < max_sequence else i for i in batch_data_j]\n",
    "\n",
    "\n",
    "sentences = ['check this out','i am very happy', 'what is', ['check','this'],'he a a a abs']\n",
    "\n",
    "\n",
    "def pad_sentences(self, sentences, sequence_len):\n",
    "    padded_sentences = []\n",
    "    actual_length    = []\n",
    "\n",
    "\n",
    "    for sentence in tqdm(sentences):\n",
    "        if not isinstance(sentence, list):\n",
    "            token = nltk.word_tokenize(sentence)\n",
    "        else:\n",
    "            token = sentence\n",
    "        \n",
    "        if len(token) < sequene_len:\n",
    "            actual_length.append(len(token))\n",
    "            token = token + [''] * (sequene_len-len(token))\n",
    "        else:\n",
    "            actual_length.append(len(token))\n",
    "        \n",
    "        padded_sentences.append(token)\n",
    "    return padded_sentences, actual_length"
   ]
  },
  {
   "cell_type": "code",
   "execution_count": null,
   "metadata": {},
   "outputs": [],
   "source": [
    "chy = pad_sentences(sentences,5)"
   ]
  },
  {
   "cell_type": "code",
   "execution_count": null,
   "metadata": {},
   "outputs": [],
   "source": [
    "chy"
   ]
  },
  {
   "cell_type": "code",
   "execution_count": null,
   "metadata": {},
   "outputs": [],
   "source": [
    "actual_len = []\n",
    "for m in chy[0]:\n",
    "    actu = [k for k in m if k!='']\n",
    "    actual_len.append(len(actu))\n",
    "    "
   ]
  },
  {
   "cell_type": "code",
   "execution_count": null,
   "metadata": {},
   "outputs": [],
   "source": [
    "import numpy as np\n",
    "\n",
    "def actual_len(list_data):\n",
    "    \n",
    "    actual_ = []\n",
    "    for sequence in list_data:\n",
    "        actual = [sub_ for sub_ in sequence if sub_!='']\n",
    "        actual_.append(len(actual))\n",
    "    return actual_\n",
    "        \n",
    "    \n",
    "    "
   ]
  },
  {
   "cell_type": "code",
   "execution_count": null,
   "metadata": {},
   "outputs": [],
   "source": [
    "data        = actual_len(chy[0])\n",
    "second_list = actual_len(chy[0])\n",
    "data.extend(second_list)"
   ]
  },
  {
   "cell_type": "code",
   "execution_count": null,
   "metadata": {},
   "outputs": [],
   "source": [
    "import tensorflow as tf\n",
    "import numpy as np\n",
    "import os\n",
    "import tensorflow_hub as hub\n",
    "\n",
    "os.environ['TF_CPP_MIN_LOG_LEVEL'] = '3'\n",
    "tf.compat.v1.logging.set_verbosity(tf.compat.v1.logging.ERROR)\n",
    "from tensorflow.python.util import deprecation\n",
    "deprecation._PRINT_DEPRECATION_WARNINGS = False\n",
    "try:\n",
    "    from tensorflow.python.util import module_wrapper as deprecation\n",
    "except ImportError:\n",
    "    from tensorflow.python.util import deprecation_wrapper as deprecation\n",
    "deprecation._PER_MODULE_WARNING_LIMIT = 0\n",
    "\n",
    "\n",
    "\n",
    "class Elmo_word_model(object):\n",
    "    \n",
    "    def __init__(self, \n",
    "                no_of_labels,\n",
    "                learning_rate, \n",
    "                rnn_units, \n",
    "                train_elmo = True, \n",
    "                output_type = 'state_output', \n",
    "                max_sentence_words = 4):\n",
    "\n",
    "        tf.reset_default_graph()\n",
    "\n",
    "        # feature extraction network  ------------------------------------------>>\n",
    "        \n",
    "        # pass raw string \n",
    "        # one hot labels\n",
    "        sentences             = tf.placeholder(tf.string, (None), name='sentences')\n",
    "        self.targets          = tf.placeholder(tf.int32, [None, None], name='labels' )\n",
    "        sequence_length       = tf.placeholder(tf.int32, (None), name='sequence_len')\n",
    "\n",
    "        keep_prob             = tf.placeholder(tf.float32, name='dropout')\n",
    "\n",
    "\n",
    "\n",
    "        self.placeholders     = {\n",
    "                                'sentence': sentences, \n",
    "                                'labels': self.targets, \n",
    "                                'drop': keep_prob, \n",
    "                                'sequence_length': sequence_length\n",
    "                                }\n",
    "\n",
    "        module                = hub.Module('https://tfhub.dev/google/elmo/2', trainable = train_elmo )\n",
    "        module_features       = module(dict(tokens=sentences, sequence_len = sequence_length),\n",
    "                                 signature='tokens', as_dict=True)\n",
    "        embeddings            = module_features[\"elmo\"]\n",
    "\n",
    "\n",
    "\n",
    "        # sequence learning network -------------------------------------------------------->\n",
    "         #bilstm model\n",
    "        with tf.variable_scope('forward'):\n",
    "            fr_cell = tf.contrib.rnn.LSTMCell(num_units = rnn_units)\n",
    "            dropout_fr = tf.contrib.rnn.DropoutWrapper(fr_cell, output_keep_prob = 1. - keep_prob)\n",
    "            \n",
    "        with tf.variable_scope('backward'):\n",
    "            bw_cell = tf.contrib.rnn.LSTMCell(num_units = rnn_units)\n",
    "            dropout_bw = tf.contrib.rnn.DropoutWrapper(bw_cell, output_keep_prob = 1. - keep_prob)\n",
    "            \n",
    "        with tf.variable_scope('encoder') as scope:\n",
    "            model,last_state = tf.nn.bidirectional_dynamic_rnn(dropout_fr,\n",
    "                                                               dropout_bw,\n",
    "                                                               inputs = embeddings,\n",
    "                                                               dtype=tf.float32)\n",
    "\n",
    "        \n",
    "        if output_type == 'flat':\n",
    "\n",
    "            logits = tf.reshape(model[0], (-1, rnn_units * max_sentence_words))\n",
    "            # dense layer with xavier weights\n",
    "            fc_layer = tf.get_variable(name='fully_connected',\n",
    "                                    shape=[rnn_units * max_sentence_words, no_of_labels],\n",
    "                                    dtype=tf.float32,\n",
    "                                    initializer=tf.contrib.layers.xavier_initializer())\n",
    "            \n",
    "            # bias \n",
    "            bias    = tf.get_variable(name='bias',\n",
    "                                    shape=[no_of_labels],\n",
    "                                    dtype=tf.float32,\n",
    "                                    initializer=tf.contrib.layers.xavier_initializer())\n",
    "            \n",
    "            #final output \n",
    "            self.x_ = tf.add(tf.matmul(logits,fc_layer),bias)\n",
    "\n",
    "        else:\n",
    "\n",
    "            logits = tf.concat([last_state[0].c,last_state[1].c],axis=-1)\n",
    "             # dense layer with xavier weights\n",
    "            fc_layer = tf.get_variable(name='fully_connected',\n",
    "                                    shape=[2*rnn_units, no_of_labels],\n",
    "                                    dtype=tf.float32,\n",
    "                                    initializer=tf.contrib.layers.xavier_initializer())\n",
    "            \n",
    "            # bias \n",
    "            bias    = tf.get_variable(name='bias',\n",
    "                                    shape=[no_of_labels],\n",
    "                                    dtype=tf.float32,\n",
    "                                    initializer=tf.contrib.layers.xavier_initializer())\n",
    "            \n",
    "            #final output \n",
    "            self.x_ = tf.add(tf.matmul(logits,fc_layer),bias)\n",
    "\n",
    "\n",
    "         #optimization and loss calculation ---------------------------------->>\n",
    "        \n",
    "        self.cross_entropy = tf.nn.sigmoid_cross_entropy_with_logits(logits = self.x_, labels = tf.cast(self.targets,tf.float32))\n",
    "        self.loss = tf.reduce_mean(tf.reduce_sum(self.cross_entropy, axis=1))\n",
    "        self.optimizer = tf.train.AdamOptimizer(learning_rate = learning_rate).minimize(self.loss)\n",
    "        self.predictions = tf.cast(tf.sigmoid(self.x_) > 0.5, tf.int32)"
   ]
  },
  {
   "cell_type": "code",
   "execution_count": null,
   "metadata": {},
   "outputs": [],
   "source": [
    "def model_execute(model):\n",
    "    with tf.Session() as sess:\n",
    "        sess.run([tf.global_variables_initializer(), tf.tables_initializer()])\n",
    "        \n",
    "        model_out, train = sess.run([model.loss, model.optimizer],\n",
    "                                    feed_dict={model.placeholders['sentence']:[['hello','how','are','you'],['dep','as','','']],\n",
    "                                               model.placeholders['labels']:np.random.randint(0,2,[2,4]), \n",
    "                                               model.placeholders['sequence_length']:[4,2],model.placeholders['drop']:0.0})\n",
    "        print(model_out)\n",
    "        \n",
    "        \n",
    "if __name__=='__main__':\n",
    "    \n",
    "    model_out_ = Elmo_word_model(4,0.001,10)\n",
    "    model_execute(model_out_)"
   ]
  },
  {
   "cell_type": "code",
   "execution_count": null,
   "metadata": {},
   "outputs": [],
   "source": [
    "# no_of_labels,\n",
    "#                 learning_rate, \n",
    "#                 rnn_units, \n",
    "#                 train_elmo = True, \n",
    "#                 output_type = 'state_output', \n",
    "#                 max_sentence_words = 4"
   ]
  },
  {
   "cell_type": "code",
   "execution_count": null,
   "metadata": {},
   "outputs": [],
   "source": [
    "from tqdm import tqdm\n",
    "import nltk\n",
    "\n",
    "def pad_sentences(self, sentences):\n",
    "    \n",
    "\n",
    "    padded_sentences = []\n",
    "    actual_length    = []\n",
    "\n",
    "    sentences = [seq.split() for seq in sentences]\n",
    "    sequence_len = max(list(map(len, sentences)))\n",
    "    print(sequence_len)\n",
    "\n",
    "\n",
    "    for sentence in tqdm(sentences):\n",
    "        if not isinstance(sentence, list):\n",
    "            token = nltk.word_tokenize(sentence)\n",
    "        else:\n",
    "            token = sentence\n",
    "\n",
    "        if len(token) < sequence_len:\n",
    "            actual_length.append(len(token))\n",
    "            token = token + [''] * (sequence_len-len(token))\n",
    "        else:\n",
    "            actual_length.append(len(token))\n",
    "\n",
    "        padded_sentences.append(token)\n",
    "    return padded_sentences, actual_length"
   ]
  },
  {
   "cell_type": "code",
   "execution_count": null,
   "metadata": {},
   "outputs": [],
   "source": [
    "pad_sentences(['check gh','ell','af'])"
   ]
  },
  {
   "cell_type": "code",
   "execution_count": null,
   "metadata": {},
   "outputs": [],
   "source": []
  }
 ],
 "metadata": {
  "kernelspec": {
   "display_name": "Python 3",
   "language": "python",
   "name": "python3"
  },
  "language_info": {
   "codemirror_mode": {
    "name": "ipython",
    "version": 3
   },
   "file_extension": ".py",
   "mimetype": "text/x-python",
   "name": "python",
   "nbconvert_exporter": "python",
   "pygments_lexer": "ipython3",
   "version": "3.6.8"
  }
 },
 "nbformat": 4,
 "nbformat_minor": 2
}
