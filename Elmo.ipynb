{
 "cells": [
  {
   "cell_type": "code",
   "execution_count": null,
   "metadata": {},
   "outputs": [],
   "source": [
    "# let's take one dataset for example\n",
    "from multilab.datasets import reuter\n",
    "sentences, labels = reuter()\n",
    "\n",
    "from multilab.preprocess import Text_preprocessing\n",
    "text_preprocessing = Text_preprocessing()\n",
    "\n",
    "dataframe = text_preprocessing.labels_to_dataframe(sentences,labels)\n",
    "preprocessded_dataset = text_preprocessing.initial_preprocess(dataframe, chunk_value = 25)\n",
    "dataset, frequency_list = text_preprocessing.keep_labels(preprocessded_dataset,keep_ratio=0.10)\n",
    "slice_dataset = text_preprocessing.dataset_slice(dataset,ratio=0.25)\n",
    "\n",
    "import numpy as np\n",
    "all_sente = list(slice_dataset['text'])\n",
    "all_label = np.array(slice_dataset.drop('text', 1))\n",
    "\n",
    "X_train, X_test, y_train, y_test = text_preprocessing.split_dataset(all_sente, all_label)"
   ]
  },
  {
   "cell_type": "code",
   "execution_count": null,
   "metadata": {},
   "outputs": [],
   "source": []
  },
  {
   "cell_type": "code",
   "execution_count": null,
   "metadata": {},
   "outputs": [],
   "source": [
    "from multilab.models import Elmo\n",
    "\n",
    "config = {\n",
    "                         'no_of_labels'               : len(y_train[0]),\n",
    "                         'learning_rate'              : 0.001,\n",
    "                         'epoch'                      : 2,\n",
    "                         'batch_size'                 : 128,\n",
    "                         'result_path'                : '/Users/monk/Desktop'\n",
    "                        }\n",
    "\n",
    "\n",
    "el_m = Elmo(X_train, y_train, X_test,  y_test, config)"
   ]
  },
  {
   "cell_type": "code",
   "execution_count": null,
   "metadata": {},
   "outputs": [],
   "source": [
    "print(el_m.train())"
   ]
  },
  {
   "cell_type": "code",
   "execution_count": null,
   "metadata": {},
   "outputs": [],
   "source": [
    "# testing"
   ]
  },
  {
   "cell_type": "code",
   "execution_count": null,
   "metadata": {},
   "outputs": [],
   "source": [
    "import tensorflow as tf \n",
    "import tensorflow_hub as hub\n",
    "\n",
    "ins = tf.placeholder(tf.string, (None), name='pl_phrase_text')\n",
    "\n",
    "\n",
    "module = hub.Module('https://tfhub.dev/google/elmo/2', trainable=True)\n",
    "embeddings = module(dict(text=ins))\n",
    "embeddings = tf.expand_dims(embeddings, axis=1)"
   ]
  },
  {
   "cell_type": "code",
   "execution_count": null,
   "metadata": {},
   "outputs": [],
   "source": [
    "with tf.Session() as sess:\n",
    "    sess.run([tf.global_variables_initializer(), tf.tables_initializer()])\n",
    "    print(sess.run(embeddings,feed_dict={ins:['hello']}).shape)"
   ]
  },
  {
   "cell_type": "code",
   "execution_count": 33,
   "metadata": {},
   "outputs": [
    {
     "name": "stdout",
     "output_type": "stream",
     "text": [
      "INFO:tensorflow:Saver not created because there are no variables in the graph to restore\n"
     ]
    },
    {
     "name": "stderr",
     "output_type": "stream",
     "text": [
      "INFO:tensorflow:Saver not created because there are no variables in the graph to restore\n"
     ]
    }
   ],
   "source": [
    "import tensorflow as tf \n",
    "import tensorflow_hub as hub\n",
    "\n",
    "tokens = tf.placeholder(tf.string, (None), name='pl_phrase_text')\n",
    "pl_phrase_len = tf.placeholder(tf.int32, (None), name='pl_phrase_len')\n",
    "\n",
    "tokens_input = [[\"the\", \"cat\", \"is\", \"on\", \"the\", \"mat\"],\n",
    "                [\"dogs\", \"are\", \"in\", \"the\", \"fog\", \"\"]]\n",
    "tokens_length = [6, 5]\n",
    "\n",
    "\n",
    "module = hub.Module('https://tfhub.dev/google/elmo/2', trainable=True)\n",
    "module_features = module(dict(tokens=tokens, sequence_len = pl_phrase_len),\n",
    "                                 signature='tokens', as_dict=True)\n",
    "embeddingse = module_features[\"elmo\"]"
   ]
  },
  {
   "cell_type": "code",
   "execution_count": 34,
   "metadata": {},
   "outputs": [],
   "source": [
    "with tf.Session() as sess:\n",
    "    sess.run([tf.global_variables_initializer(), tf.tables_initializer()])\n",
    "    data,t = sess.run([embeddingse,module_features],feed_dict={tokens: tokens_input, pl_phrase_len: tokens_length})\n",
    "    \n",
    "    \n",
    "    "
   ]
  },
  {
   "cell_type": "code",
   "execution_count": 35,
   "metadata": {},
   "outputs": [
    {
     "data": {
      "text/plain": [
       "(2, 6, 1024)"
      ]
     },
     "execution_count": 35,
     "metadata": {},
     "output_type": "execute_result"
    }
   ],
   "source": [
    "data.shape"
   ]
  },
  {
   "cell_type": "code",
   "execution_count": 28,
   "metadata": {},
   "outputs": [
    {
     "data": {
      "text/plain": [
       "(6, 1024)"
      ]
     },
     "execution_count": 28,
     "metadata": {},
     "output_type": "execute_result"
    }
   ],
   "source": [
    "data[0].shape"
   ]
  },
  {
   "cell_type": "code",
   "execution_count": 22,
   "metadata": {},
   "outputs": [
    {
     "data": {
      "text/plain": [
       "{'sequence_len': array([6, 5], dtype=int32),\n",
       " 'elmo': array([[[ 3.08154464e-01,  2.66303837e-01,  2.35613152e-01, ...,\n",
       "          -3.70856762e-01,  1.64905071e-01, -7.24593699e-02],\n",
       "         [ 5.14287412e-01, -1.35323137e-01,  1.10904127e-01, ...,\n",
       "           4.04687077e-02, -4.78973389e-02,  7.36596406e-01],\n",
       "         [-2.58805454e-02, -7.28362352e-02, -7.93559626e-02, ...,\n",
       "          -2.90724307e-01,  7.24214077e-01,  4.38635081e-01],\n",
       "         [-3.47980261e-01, -2.91023925e-02, -8.19930553e-01, ...,\n",
       "          -9.20483828e-01,  2.18880177e-02,  1.21060461e-01],\n",
       "         [-2.18274534e-01, -1.30765766e-01, -2.52096236e-01, ...,\n",
       "          -2.96935469e-01, -1.58281043e-01, -4.90074344e-02],\n",
       "         [ 1.00725375e-01, -2.95346603e-02, -2.44942963e-01, ...,\n",
       "          -3.72350782e-01, -1.48758322e-01,  2.15922594e-01]],\n",
       " \n",
       "        [[ 5.45786619e-02, -2.64275581e-01,  4.68437970e-01, ...,\n",
       "          -1.40771136e-01, -2.65682638e-01,  4.52120036e-01],\n",
       "         [ 8.09431151e-02,  1.15838900e-01, -1.56706259e-01, ...,\n",
       "          -2.68961579e-01,  3.38719428e-01,  1.15770753e-02],\n",
       "         [-7.89644271e-02,  9.49274957e-01, -6.18049085e-01, ...,\n",
       "          -6.30558848e-01,  3.09430093e-01,  1.53787315e-01],\n",
       "         [-6.78087622e-02,  9.71875861e-02, -3.62254679e-01, ...,\n",
       "           7.75001943e-02, -6.16606250e-02,  6.00473732e-02],\n",
       "         [-2.61825742e-04, -1.26097620e-01, -5.33947349e-01, ...,\n",
       "           4.29218143e-01,  1.28046185e-01,  5.31919181e-01],\n",
       "         [-2.84084119e-02, -4.35321555e-02,  4.13016044e-02, ...,\n",
       "           2.58316696e-02, -1.42983329e-02, -1.65041946e-02]]],\n",
       "       dtype=float32),\n",
       " 'default': array([[ 0.05517199, -0.02187639, -0.17496808, ..., -0.3684804 ,\n",
       "          0.09267841,  0.2317913 ],\n",
       "        [-0.00798433,  0.14567922, -0.23224357, ..., -0.10154829,\n",
       "          0.08691083,  0.23858936]], dtype=float32),\n",
       " 'lstm_outputs1': array([[[ 0.37284163,  0.32091835,  0.28090948, ..., -0.35141596,\n",
       "           0.04445496, -0.19404092],\n",
       "         [ 0.6065886 , -0.27055484, -0.42402092, ..., -0.13069275,\n",
       "           0.25341815,  0.71387684],\n",
       "         [-0.25261503,  0.16579133, -0.06960667, ...,  0.0328595 ,\n",
       "           0.3374219 ,  0.35210603],\n",
       "         [-0.32326353,  0.23459417, -0.5704689 , ..., -0.76851624,\n",
       "          -0.2643533 ,  0.27271718],\n",
       "         [-0.2698515 ,  0.0162094 , -0.38876975, ..., -0.2839023 ,\n",
       "          -0.25036678,  0.02041116],\n",
       "         [ 0.05871509,  0.02726585, -0.25782672, ..., -0.12380573,\n",
       "           0.33228144,  0.8734096 ]],\n",
       " \n",
       "        [[ 0.30402243,  0.08508732,  0.14815037, ..., -0.14579615,\n",
       "          -0.44964272,  0.26718804],\n",
       "         [ 0.02644525,  0.34840834, -0.24916768, ..., -0.02543936,\n",
       "           0.00471566, -0.07422714],\n",
       "         [-0.15904382,  0.9119889 , -0.61441183, ..., -0.6856686 ,\n",
       "           0.18083338,  0.0907594 ],\n",
       "         [ 0.2987627 ,  0.3090248 , -0.49411446, ..., -0.01450944,\n",
       "          -0.15050817,  0.2896714 ],\n",
       "         [-0.2592189 ,  0.17542808, -0.405994  , ...,  0.4213694 ,\n",
       "           0.40409   ,  0.54372776],\n",
       "         [ 0.        ,  0.        ,  0.        , ...,  0.        ,\n",
       "           0.        ,  0.        ]]], dtype=float32),\n",
       " 'lstm_outputs2': array([[[ 0.6206703 ,  0.3653777 ,  0.18879741, ..., -0.84177935,\n",
       "           0.35687098,  0.16665655],\n",
       "         [ 0.86018384, -0.71566373,  0.33613506, ..., -0.0297091 ,\n",
       "           0.23038289,  1.8898072 ],\n",
       "         [-0.01657391, -0.6142868 ,  0.12097757, ..., -0.84056705,\n",
       "           1.2542015 ,  0.74611914],\n",
       "         [-0.76405543, -0.46110976, -1.4737943 , ..., -1.6910055 ,\n",
       "           0.24993882, -0.01837045],\n",
       "         [-0.31592354, -0.52112204, -0.60465145, ..., -0.6875291 ,\n",
       "          -0.3178656 ,  0.02256027],\n",
       "         [ 0.4637424 , -0.20050249, -0.6107949 , ..., -0.03458637,\n",
       "           0.17038143,  0.70538485]],\n",
       " \n",
       "        [[-0.91202366, -0.06603969,  0.74425083, ..., -0.45828062,\n",
       "          -0.31687903,  1.4519491 ],\n",
       "         [ 0.24762431, -0.08125001,  0.06146806, ..., -0.81963927,\n",
       "           0.5325307 ,  0.0224091 ],\n",
       "         [ 0.17907432,  1.5210055 , -0.8285738 , ..., -1.0076694 ,\n",
       "           0.7735315 ,  0.20246375],\n",
       "         [-0.43314043, -0.13007745, -0.8297821 , ...,  0.16638502,\n",
       "          -0.12786296,  0.08046445],\n",
       "         [ 0.00483266, -0.17798741, -0.9781496 , ...,  0.67499006,\n",
       "           0.8246173 ,  0.21600807],\n",
       "         [ 0.        ,  0.        ,  0.        , ...,  0.        ,\n",
       "           0.        ,  0.        ]]], dtype=float32),\n",
       " 'word_emb': array([[[-0.06904855,  0.11261538,  0.23713252, ...,  0.080625  ,\n",
       "           0.09338926, -0.18999374],\n",
       "         [ 0.07608977,  0.58024913,  0.42059827, ...,  0.281808  ,\n",
       "          -0.627493  , -0.3938948 ],\n",
       "         [ 0.19154732,  0.22998676, -0.28943878, ..., -0.06446534,\n",
       "           0.5810188 ,  0.21768002],\n",
       "         [ 0.0433782 ,  0.1392084 , -0.41552836, ..., -0.3019298 ,\n",
       "           0.08007853,  0.10883464],\n",
       "         [-0.06904855,  0.11261538,  0.23713252, ...,  0.080625  ,\n",
       "           0.09338926, -0.18999374],\n",
       "         [-0.22028136,  0.08463266,  0.13379273, ..., -0.9586602 ,\n",
       "          -0.9489378 , -0.93102676]],\n",
       " \n",
       "        [[ 0.7717371 , -0.81187433,  0.5129127 , ...,  0.18176337,\n",
       "          -0.03052608, -0.36277705],\n",
       "         [-0.03124021,  0.08035836, -0.28241915, ...,  0.03819392,\n",
       "           0.47891188,  0.08654927],\n",
       "         [-0.2569238 ,  0.41483027, -0.41116148, ..., -0.19833852,\n",
       "          -0.02607463,  0.16813876],\n",
       "         [-0.06904855,  0.11261538,  0.23713252, ...,  0.080625  ,\n",
       "           0.09338926, -0.18999374],\n",
       "         [ 0.25360078, -0.37573352, -0.21769853, ...,  0.19129495,\n",
       "          -0.8445687 ,  0.8360216 ],\n",
       "         [-0.08522523, -0.13059646,  0.12390481, ...,  0.07749501,\n",
       "          -0.042895  , -0.04951258]]], dtype=float32)}"
      ]
     },
     "execution_count": 22,
     "metadata": {},
     "output_type": "execute_result"
    }
   ],
   "source": [
    "data[1]"
   ]
  },
  {
   "cell_type": "code",
   "execution_count": 19,
   "metadata": {},
   "outputs": [],
   "source": [
    "from tqdm import tqdm\n",
    "import nltk\n",
    "\n",
    "# padded_sequence = [i + [0] * (max_sequence - len(i)) if len(i) < max_sequence else i for i in batch_data_j]\n",
    "\n",
    "\n",
    "sentences = ['check this out','i am very happy', 'what is', ['check','this'],'he a a a abs']\n",
    "\n",
    "\n",
    "def pad_sentences(self, sentences, sequence_len):\n",
    "    padded_sentences = []\n",
    "    actual_length    = []\n",
    "\n",
    "\n",
    "    for sentence in tqdm(sentences):\n",
    "        if not isinstance(sentence, list):\n",
    "            token = nltk.word_tokenize(sentence)\n",
    "        else:\n",
    "            token = sentence\n",
    "        \n",
    "        if len(token) < sequene_len:\n",
    "            actual_length.append(len(token))\n",
    "            token = token + [''] * (sequene_len-len(token))\n",
    "        else:\n",
    "            actual_length.append(len(token))\n",
    "        \n",
    "        padded_sentences.append(token)\n",
    "    return padded_sentences, actual_length"
   ]
  },
  {
   "cell_type": "code",
   "execution_count": 20,
   "metadata": {},
   "outputs": [
    {
     "name": "stderr",
     "output_type": "stream",
     "text": [
      "100%|██████████| 5/5 [00:00<00:00, 1920.12it/s]\n"
     ]
    }
   ],
   "source": [
    "chy = pad_sentences(sentences,5)"
   ]
  },
  {
   "cell_type": "code",
   "execution_count": 21,
   "metadata": {},
   "outputs": [
    {
     "data": {
      "text/plain": [
       "([['check', 'this', 'out', '', ''],\n",
       "  ['i', 'am', 'very', 'happy', ''],\n",
       "  ['what', 'is', '', '', ''],\n",
       "  ['check', 'this', '', '', ''],\n",
       "  ['he', 'a', 'a', 'a', 'abs']],\n",
       " [3, 4, 2, 2, 5])"
      ]
     },
     "execution_count": 21,
     "metadata": {},
     "output_type": "execute_result"
    }
   ],
   "source": [
    "chy"
   ]
  },
  {
   "cell_type": "code",
   "execution_count": null,
   "metadata": {},
   "outputs": [],
   "source": []
  }
 ],
 "metadata": {
  "kernelspec": {
   "display_name": "Python 3",
   "language": "python",
   "name": "python3"
  },
  "language_info": {
   "codemirror_mode": {
    "name": "ipython",
    "version": 3
   },
   "file_extension": ".py",
   "mimetype": "text/x-python",
   "name": "python",
   "nbconvert_exporter": "python",
   "pygments_lexer": "ipython3",
   "version": "3.6.8"
  }
 },
 "nbformat": 4,
 "nbformat_minor": 2
}
