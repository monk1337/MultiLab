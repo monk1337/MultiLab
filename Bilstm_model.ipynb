{
 "cells": [
  {
   "cell_type": "code",
   "execution_count": 1,
   "metadata": {},
   "outputs": [
    {
     "name": "stdout",
     "output_type": "stream",
     "text": [
      "[nltk_data] Downloading package reuters to /Users/monk/nltk_data...\n",
      "[nltk_data]   Package reuters is already up-to-date!\n"
     ]
    }
   ],
   "source": [
    "# let's take one dataset for example\n",
    "from multilab.datasets import reuter\n",
    "sentences, labels = reuter()"
   ]
  },
  {
   "cell_type": "code",
   "execution_count": 2,
   "metadata": {},
   "outputs": [],
   "source": [
    "# importing preprocessing class\n",
    "# let's play with that\n",
    "\n",
    "from multilab.preprocess import Text_preprocessing\n",
    "text_preprocessing = Text_preprocessing()"
   ]
  },
  {
   "cell_type": "code",
   "execution_count": 3,
   "metadata": {},
   "outputs": [],
   "source": [
    "dataframe = text_preprocessing.labels_to_dataframe(sentences,labels)"
   ]
  },
  {
   "cell_type": "code",
   "execution_count": 4,
   "metadata": {},
   "outputs": [
    {
     "name": "stdout",
     "output_type": "stream",
     "text": [
      "lower_case done\n",
      "punctuation removed\n",
      "text cleaning done\n"
     ]
    }
   ],
   "source": [
    "preprocessded_dataset = text_preprocessing.initial_preprocess(dataframe, chunk_value = 25)"
   ]
  },
  {
   "cell_type": "code",
   "execution_count": 5,
   "metadata": {},
   "outputs": [
    {
     "data": {
      "text/plain": [
       "[('acq', 2369),\n",
       " ('crude', 578),\n",
       " ('earn', 3964),\n",
       " ('grain', 582),\n",
       " ('interest', 478),\n",
       " ('money-fx', 717),\n",
       " ('ship', 286),\n",
       " ('trade', 485),\n",
       " ('wheat', 283)]"
      ]
     },
     "execution_count": 5,
     "metadata": {},
     "output_type": "execute_result"
    }
   ],
   "source": [
    "dataset, frequency_list = text_preprocessing.keep_labels(preprocessded_dataset,keep_ratio=0.10)\n",
    "frequency_list"
   ]
  },
  {
   "cell_type": "code",
   "execution_count": 6,
   "metadata": {},
   "outputs": [],
   "source": [
    "slice_dataset = text_preprocessing.dataset_slice(dataset,ratio=0.25)\n"
   ]
  },
  {
   "cell_type": "code",
   "execution_count": 7,
   "metadata": {},
   "outputs": [
    {
     "name": "stderr",
     "output_type": "stream",
     "text": [
      "100%|██████████| 2258/2258 [00:00<00:00, 179775.22it/s]\n"
     ]
    }
   ],
   "source": [
    "sorted_long, freq_num, word_to_int, int_to_word  = text_preprocessing.vocab_freq(slice_dataset)"
   ]
  },
  {
   "cell_type": "code",
   "execution_count": 8,
   "metadata": {},
   "outputs": [
    {
     "name": "stderr",
     "output_type": "stream",
     "text": [
      "100%|██████████| 2258/2258 [00:00<00:00, 218149.41it/s]\n"
     ]
    }
   ],
   "source": [
    "top_words, freq_lis, w2i, i2w = text_preprocessing.vocab_freq(slice_dataset,keep_ratio=0.50)"
   ]
  },
  {
   "cell_type": "code",
   "execution_count": 9,
   "metadata": {},
   "outputs": [
    {
     "name": "stderr",
     "output_type": "stream",
     "text": [
      "100%|██████████| 2258/2258 [00:00<00:00, 4967.50it/s]\n"
     ]
    }
   ],
   "source": [
    "all_sentence_s, all_label_s, vocab_dict = text_preprocessing.encoder(slice_dataset, w2i)"
   ]
  },
  {
   "cell_type": "code",
   "execution_count": 10,
   "metadata": {},
   "outputs": [],
   "source": [
    "X_train, X_test, y_train, y_test = text_preprocessing.split_dataset(all_sentence_s, all_label_s)\n"
   ]
  },
  {
   "cell_type": "code",
   "execution_count": 11,
   "metadata": {},
   "outputs": [],
   "source": [
    "from multilab.models import Bilstm\n",
    "\n",
    "config = {\n",
    "                         'vocab_size'                 : 7000,\n",
    "                         'no_of_labels'               : 9,\n",
    "                         'rnn_units'                  : 256, \n",
    "                         'word_embedding_dim'         : 300, \n",
    "                         'learning_rate'              : 0.001, \n",
    "                         'pretrained_embedding_matrix': None,\n",
    "                         'dropout'                    : 0.2,\n",
    "                         'epoch'                      : 5,\n",
    "                         'batch_size'                 : 128,\n",
    "                         'result_path'                : '/Users/monk/Desktop',\n",
    "                         'last_output'                : False,\n",
    "                         'train_embedding'            : True\n",
    "                        }\n",
    "\n",
    "\n",
    "bl = Bilstm(X_train, y_train, X_test,  y_test, config)"
   ]
  },
  {
   "cell_type": "code",
   "execution_count": 12,
   "metadata": {},
   "outputs": [
    {
     "name": "stderr",
     "output_type": "stream",
     "text": [
      "epoch 0,  iteration 6,  F1_score 0.10884353741496598,  loss 2.7841105461120605:  58%|█████▊    | 7/12 [00:07<00:05,  1.01s/it]/Users/monk/anaconda3/lib/python3.6/site-packages/sklearn/metrics/classification.py:1437: UndefinedMetricWarning: F-score is ill-defined and being set to 0.0 due to no predicted samples.\n",
      "  'precision', 'predicted', average, warn_for)\n",
      "epoch 0,  iteration 11,  F1_score 0.3595505617977528,  loss 2.975947380065918: 100%|██████████| 12/12 [00:10<00:00,  1.43it/s]\n",
      "/Users/monk/anaconda3/lib/python3.6/site-packages/sklearn/metrics/classification.py:1437: UndefinedMetricWarning: F-score is ill-defined and being set to 0.0 in labels with no predicted samples.\n",
      "  'precision', 'predicted', average, warn_for)\n",
      "Bar desc:   0%|          | 0/12 [00:00<?, ?it/s]"
     ]
    },
    {
     "name": "stdout",
     "output_type": "stream",
     "text": [
      "validation_acc {'subset_accuracy': 0.45166666666666666, 'hamming_score': 0.4601111111111112, 'hamming_loss': 0.1285185185185185, 'micro_ac': 0.4490395710185522, 'weight_ac': 0.2830056188426279, 'epoch': 0}\n"
     ]
    },
    {
     "name": "stderr",
     "output_type": "stream",
     "text": [
      "epoch 1,  iteration 11,  F1_score 0.42696629213483145,  loss 2.1815903186798096: 100%|██████████| 12/12 [00:08<00:00,  1.54it/s]\n",
      "Bar desc:   0%|          | 0/12 [00:00<?, ?it/s]"
     ]
    },
    {
     "name": "stdout",
     "output_type": "stream",
     "text": [
      "validation_acc {'subset_accuracy': 0.35333333333333333, 'hamming_score': 0.35333333333333333, 'hamming_loss': 0.08574074074074074, 'micro_ac': 0.476782017154688, 'weight_ac': 0.3775893562848152, 'epoch': 1}\n"
     ]
    },
    {
     "name": "stderr",
     "output_type": "stream",
     "text": [
      "epoch 2,  iteration 11,  F1_score 0.6037735849056604,  loss 2.14815616607666: 100%|██████████| 12/12 [00:08<00:00,  1.54it/s]  \n",
      "Bar desc:   0%|          | 0/12 [00:00<?, ?it/s]"
     ]
    },
    {
     "name": "stdout",
     "output_type": "stream",
     "text": [
      "validation_acc {'subset_accuracy': 0.6766666666666667, 'hamming_score': 0.6833333333333335, 'hamming_loss': 0.07074074074074073, 'micro_ac': 0.6842392572921329, 'weight_ac': 0.5697209255425185, 'epoch': 2}\n"
     ]
    },
    {
     "name": "stderr",
     "output_type": "stream",
     "text": [
      "epoch 3,  iteration 11,  F1_score 0.7161572052401747,  loss 1.4146056175231934: 100%|██████████| 12/12 [00:07<00:00,  1.55it/s]\n",
      "Bar desc:   0%|          | 0/12 [00:00<?, ?it/s]"
     ]
    },
    {
     "name": "stdout",
     "output_type": "stream",
     "text": [
      "validation_acc {'subset_accuracy': 0.6666666666666666, 'hamming_score': 0.6708333333333334, 'hamming_loss': 0.052777777777777785, 'micro_ac': 0.7393901365570592, 'weight_ac': 0.6157418024767081, 'epoch': 3}\n"
     ]
    },
    {
     "name": "stderr",
     "output_type": "stream",
     "text": [
      "epoch 4,  iteration 11,  F1_score 0.7443946188340808,  loss 1.395214319229126: 100%|██████████| 12/12 [00:08<00:00,  1.26it/s]\n"
     ]
    },
    {
     "name": "stdout",
     "output_type": "stream",
     "text": [
      "validation_acc {'subset_accuracy': 0.6366666666666666, 'hamming_score': 0.64, 'hamming_loss': 0.05129629629629629, 'micro_ac': 0.7355059995444609, 'weight_ac': 0.618564978686071, 'epoch': 4}\n"
     ]
    }
   ],
   "source": [
    "bl.train()"
   ]
  },
  {
   "cell_type": "code",
   "execution_count": 13,
   "metadata": {},
   "outputs": [
    {
     "data": {
      "text/plain": [
       "6997"
      ]
     },
     "execution_count": 13,
     "metadata": {},
     "output_type": "execute_result"
    }
   ],
   "source": [
    "len(sorted_long)"
   ]
  },
  {
   "cell_type": "code",
   "execution_count": null,
   "metadata": {},
   "outputs": [],
   "source": []
  }
 ],
 "metadata": {
  "kernelspec": {
   "display_name": "Python 3",
   "language": "python",
   "name": "python3"
  },
  "language_info": {
   "codemirror_mode": {
    "name": "ipython",
    "version": 3
   },
   "file_extension": ".py",
   "mimetype": "text/x-python",
   "name": "python",
   "nbconvert_exporter": "python",
   "pygments_lexer": "ipython3",
   "version": "3.6.8"
  }
 },
 "nbformat": 4,
 "nbformat_minor": 2
}
